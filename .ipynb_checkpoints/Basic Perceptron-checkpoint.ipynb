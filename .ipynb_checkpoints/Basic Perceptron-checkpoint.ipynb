{
 "cells": [
  {
   "cell_type": "markdown",
   "metadata": {},
   "source": [
    "## Machine Learning - Perceptron \n",
    "\n",
    "###  A place to play around with basic machine learning and neural networks"
   ]
  },
  {
   "cell_type": "code",
   "execution_count": 3,
   "metadata": {},
   "outputs": [
    {
     "name": "stdout",
     "output_type": "stream",
     "text": [
      "1\n",
      "1\n",
      "1 or 1 is:  1\n"
     ]
    }
   ],
   "source": [
    "import numpy, random, os\n",
    "\n",
    "learningRate = 1 # a general accepted learning rate\n",
    "bias = 1 \n",
    "\n",
    "# 3 weights - one for each neuron and one for the bias\n",
    "weights = [random.random(), random.random(), random.random()] \n",
    "\n",
    "def Perceptron(input1, input2, output) :\n",
    "    outputP = input1*weights[0] + input2*weights[1] + bias*weights[2]\n",
    "    \n",
    "    if outputP > 0:\n",
    "        outputP = 1\n",
    "    else : \n",
    "        outputP = 0\n",
    "        \n",
    "    error = output - outputP\n",
    "    weights[0] += error * input1 * learningRate\n",
    "    weights[1] += error * input2 * learningRate\n",
    "    weights[2] += error * bias * learningRate\n",
    "    \n",
    "for i in range(50): #50 is the learning phase repitition\n",
    "    Perceptron(1,1,1)\n",
    "    Perceptron(1,0,1)\n",
    "    Perceptron(0,1,1)\n",
    "    Perceptron(0,0,0)\n",
    "    \n",
    "\n",
    "x = int(input())\n",
    "y = int(input())\n",
    "outputP = x * weights[0] + y*weights[1] + bias*weights[2]\n",
    "if outputP > 0:\n",
    "    outputP = 1\n",
    "else: \n",
    "    outputP = 0\n",
    "print(x, \"or\", y, \"is: \", outputP)\n",
    "\n",
    "    \n",
    "\n",
    "\n",
    "    "
   ]
  }
 ],
 "metadata": {
  "kernelspec": {
   "display_name": "Python 3",
   "language": "python",
   "name": "python3"
  },
  "language_info": {
   "codemirror_mode": {
    "name": "ipython",
    "version": 3
   },
   "file_extension": ".py",
   "mimetype": "text/x-python",
   "name": "python",
   "nbconvert_exporter": "python",
   "pygments_lexer": "ipython3",
   "version": "3.6.3"
  }
 },
 "nbformat": 4,
 "nbformat_minor": 2
}
